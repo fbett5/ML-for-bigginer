{
 "cells": [
  {
   "cell_type": "markdown",
   "id": "dc834688",
   "metadata": {},
   "source": [
    "Project 1: Titanic Survival Prediction\n",
    "🎯 Objective:\n",
    "Predict whether a passenger survived the Titanic disaster using features like age, gender, and class.\n",
    "\n",
    "🔧 Skills Practiced:\n",
    "    Data cleaning & missing value handling\n",
    "    Categorical encoding\n",
    "    Feature selection/engineering\n",
    "    Train/test split\n",
    "    Random Forest / Logistic Regression\n",
    "    Model evaluation (accuracy, confusion matrix)\n",
    "🛠 Tools Used:\n",
    "    Python\n",
    "    pandas, numpy\n",
    "    scikit-learn\n",
    "    Jupyter Notebook\n",
    "    Dataset from Kaggle/Stanford University "
   ]
  },
  {
   "cell_type": "code",
   "execution_count": null,
   "id": "7b474488",
   "metadata": {},
   "outputs": [
    {
     "name": "stdout",
     "output_type": "stream",
     "text": [
      "   Survived  Pclass                                                Name     Sex   Age  Siblings/Spouses Aboard  Parents/Children Aboard     Fare\n",
      "0         0       3                              Mr. Owen Harris Braund    male  22.0                        1                        0   7.2500\n",
      "1         1       1  Mrs. John Bradley (Florence Briggs Thayer) Cumings  female  38.0                        1                        0  71.2833\n",
      "2         1       3                               Miss. Laina Heikkinen  female  26.0                        0                        0   7.9250\n",
      "3         1       1         Mrs. Jacques Heath (Lily May Peel) Futrelle  female  35.0                        1                        0  53.1000\n",
      "4         0       3                             Mr. William Henry Allen    male  35.0                        0                        0   8.0500\n",
      "     Survived  Pclass                            Name     Sex   Age  Siblings/Spouses Aboard  Parents/Children Aboard   Fare\n",
      "882         0       2            Rev. Juozas Montvila    male  27.0                        0                        0  13.00\n",
      "883         1       1     Miss. Margaret Edith Graham  female  19.0                        0                        0  30.00\n",
      "884         0       3  Miss. Catherine Helen Johnston  female   7.0                        1                        2  23.45\n",
      "885         1       1            Mr. Karl Howell Behr    male  26.0                        0                        0  30.00\n",
      "886         0       3              Mr. Patrick Dooley    male  32.0                        0                        0   7.75\n"
     ]
    }
   ],
   "source": [
    "#Import necessary libraries (pandas for data manipulation)\n",
    "import pandas as pd\n",
    "\n",
    "#Read the CSV file into a DataFrame\n",
    "df = pd.read_csv(r\"C:\\Users\\festu\\ML05102025\\myML\\Titanic_Analysis\\titanic.csv\")"
   ]
  },
  {
   "cell_type": "markdown",
   "id": "585e8b72",
   "metadata": {},
   "source": [
    "**Clean and Preprocessing**"
   ]
  },
  {
   "cell_type": "markdown",
   "id": "c9c486ac",
   "metadata": {},
   "source": [
    "***Understanding what we are dealing with***"
   ]
  },
  {
   "cell_type": "code",
   "execution_count": 38,
   "id": "280afe58",
   "metadata": {},
   "outputs": [
    {
     "name": "stdout",
     "output_type": "stream",
     "text": [
      "\n",
      "===  DataFrame Shape ===\n",
      "(887, 7)\n",
      "##################################################\n",
      "\n",
      "===  DataFrame dtypes ===\n",
      "Survived                     int64\n",
      "Pclass                       int64\n",
      "Sex                          int32\n",
      "Age                        float64\n",
      "Siblings/Spouses Aboard      int64\n",
      "Parents/Children Aboard      int64\n",
      "Fare                       float64\n",
      "dtype: object\n",
      "**************************************************\n",
      "\n",
      "===  DataFrame head() ===\n",
      "   Survived  Pclass  Sex   Age  Siblings/Spouses Aboard  Parents/Children Aboard     Fare\n",
      "0         0       3    1  22.0                        1                        0   7.2500\n",
      "1         1       1    0  38.0                        1                        0  71.2833\n",
      "2         1       3    0  26.0                        0                        0   7.9250\n",
      "3         1       1    0  35.0                        1                        0  53.1000\n",
      "4         0       3    1  35.0                        0                        0   8.0500\n",
      "**************************************************\n",
      "\n",
      "===  DataFrame tail() ===\n",
      "     Survived  Pclass  Sex   Age  Siblings/Spouses Aboard  Parents/Children Aboard   Fare\n",
      "882         0       2    1  27.0                        0                        0  13.00\n",
      "883         1       1    0  19.0                        0                        0  30.00\n",
      "884         0       3    0   7.0                        1                        2  23.45\n",
      "885         1       1    1  26.0                        0                        0  30.00\n",
      "886         0       3    1  32.0                        0                        0   7.75\n",
      "**************************************************\n"
     ]
    }
   ],
   "source": [
    "#Show the shape of the DataFrame (number of rows and columns)\n",
    "print(\"\\n===  DataFrame Shape ===\")\n",
    "print(df.shape) #887 rows, 7 columns\n",
    "print(\"##\" * 25)\n",
    "\n",
    "#Display the data types of each column in the DataFrame\n",
    "print(\"\\n===  DataFrame dtypes ===\")\n",
    "print(df.dtypes)\n",
    "print(\"**\" * 25)\n",
    "\n",
    "#Display the first 5 rows of the DataFrame in a more readable format\n",
    "print(\"\\n===  DataFrame head() ===\")\n",
    "print(df.head().to_string())\n",
    "print(\"**\" * 25)\n",
    "\n",
    "#Display last 5 rows of the DataFrame in a more readable format\n",
    "print(\"\\n===  DataFrame tail() ===\")\n",
    "print(df.tail().to_string())\n",
    "print(\"**\" * 25)\n",
    "\n"
   ]
  },
  {
   "cell_type": "code",
   "execution_count": 39,
   "id": "24676eb3",
   "metadata": {},
   "outputs": [
    {
     "name": "stdout",
     "output_type": "stream",
     "text": [
      "\n",
      "===  DataFrame info() ===\n",
      "<class 'pandas.core.frame.DataFrame'>\n",
      "RangeIndex: 887 entries, 0 to 886\n",
      "Data columns (total 7 columns):\n",
      " #   Column                   Non-Null Count  Dtype  \n",
      "---  ------                   --------------  -----  \n",
      " 0   Survived                 887 non-null    int64  \n",
      " 1   Pclass                   887 non-null    int64  \n",
      " 2   Sex                      887 non-null    int32  \n",
      " 3   Age                      887 non-null    float64\n",
      " 4   Siblings/Spouses Aboard  887 non-null    int64  \n",
      " 5   Parents/Children Aboard  887 non-null    int64  \n",
      " 6   Fare                     887 non-null    float64\n",
      "dtypes: float64(2), int32(1), int64(4)\n",
      "memory usage: 45.2 KB\n",
      "None\n",
      "**************************************************\n"
     ]
    }
   ],
   "source": [
    "#Display data information about the DataFrame 1\\n\n",
    "print(\"\\n===  DataFrame info() ===\")\n",
    "print(df.info())\n",
    "print(\"**\" * 25)"
   ]
  },
  {
   "cell_type": "code",
   "execution_count": 46,
   "id": "b2a49793",
   "metadata": {},
   "outputs": [
    {
     "name": "stdout",
     "output_type": "stream",
     "text": [
      "\n",
      "===  DataFrame columns ===\n",
      "Index(['Survived', 'Pclass', 'Sex', 'Age', 'Siblings/Spouses Aboard',\n",
      "       'Parents/Children Aboard', 'Fare'],\n",
      "      dtype='object')\n"
     ]
    }
   ],
   "source": [
    "#Displying the columns\n",
    "print(\"\\n===  DataFrame columns ===\")\n",
    "print(df.columns)"
   ]
  },
  {
   "cell_type": "code",
   "execution_count": null,
   "id": "7ab7cb46",
   "metadata": {},
   "outputs": [],
   "source": [
    "#"
   ]
  },
  {
   "cell_type": "code",
   "execution_count": 6,
   "id": "56bbb453",
   "metadata": {},
   "outputs": [
    {
     "name": "stdout",
     "output_type": "stream",
     "text": [
      "757\n"
     ]
    }
   ],
   "source": [
    "#Filtering people older than 18 and getting the sum \n",
    "print((df[\"Age\"]>= 18).sum())"
   ]
  },
  {
   "cell_type": "code",
   "execution_count": 7,
   "id": "bbbb3990",
   "metadata": {},
   "outputs": [
    {
     "name": "stdout",
     "output_type": "stream",
     "text": [
      "130\n"
     ]
    }
   ],
   "source": [
    "# filtering people under 18 and getting the sum\n",
    "print((df[\"Age\"] < 18).sum())"
   ]
  },
  {
   "cell_type": "code",
   "execution_count": 8,
   "id": "5e895085",
   "metadata": {},
   "outputs": [
    {
     "name": "stdout",
     "output_type": "stream",
     "text": [
      "887\n"
     ]
    }
   ],
   "source": [
    "#Lets proff if that true Sum of above and les than 18 is equal to the total number of records\n",
    "total = (df[\"Age\"]>= 18).sum() + (df[\"Age\"] < 18).sum()\n",
    "print(total)"
   ]
  },
  {
   "cell_type": "code",
   "execution_count": 9,
   "id": "d1b4ae27",
   "metadata": {},
   "outputs": [
    {
     "name": "stdout",
     "output_type": "stream",
     "text": [
      "877    False\n",
      "878    False\n",
      "879    False\n",
      "880    False\n",
      "881    False\n",
      "882    False\n",
      "883    False\n",
      "884    False\n",
      "885    False\n",
      "886    False\n",
      "dtype: bool\n"
     ]
    }
   ],
   "source": [
    "#Groupby Sex = female and Pclass = 1\n",
    "# Note: After encoding, 'Sex' column is 0 for female, 1 for male\n",
    "firdt_class_female = (df['Sex'] == 0) & (df['Pclass'] == 1)\n",
    "print(firdt_class_female.tail(10))"
   ]
  },
  {
   "cell_type": "code",
   "execution_count": 10,
   "id": "ed6cb876",
   "metadata": {},
   "outputs": [
    {
     "name": "stdout",
     "output_type": "stream",
     "text": [
      "0\n"
     ]
    }
   ],
   "source": [
    "#Lets check how many women were there\n",
    "women_df = (df[\"Sex\"]==0).sum()\n",
    "\n",
    "print (women_df)"
   ]
  },
  {
   "cell_type": "code",
   "execution_count": 11,
   "id": "66416515",
   "metadata": {},
   "outputs": [
    {
     "name": "stdout",
     "output_type": "stream",
     "text": [
      "0      True\n",
      "1      True\n",
      "2      True\n",
      "3      True\n",
      "4      True\n",
      "       ... \n",
      "882    True\n",
      "883    True\n",
      "884    True\n",
      "885    True\n",
      "886    True\n",
      "Name: Pclass, Length: 887, dtype: bool\n"
     ]
    }
   ],
   "source": [
    "#total population using Pclass\n",
    "print((df['Pclass']==1) + (df['Pclass']==2) + (df['Pclass']==3))"
   ]
  },
  {
   "cell_type": "code",
   "execution_count": 12,
   "id": "0e6b0d67",
   "metadata": {},
   "outputs": [
    {
     "name": "stdout",
     "output_type": "stream",
     "text": [
      "         Survived      Pclass         Age  Siblings/Spouses Aboard  Parents/Children Aboard       Fare\n",
      "count  887.000000  887.000000  887.000000               887.000000               887.000000  887.00000\n",
      "mean     0.385569    2.305524   29.471443                 0.525366                 0.383315   32.30542\n",
      "std      0.487004    0.836662   14.121908                 1.104669                 0.807466   49.78204\n",
      "min      0.000000    1.000000    0.420000                 0.000000                 0.000000    0.00000\n",
      "25%      0.000000    2.000000   20.250000                 0.000000                 0.000000    7.92500\n",
      "50%      0.000000    3.000000   28.000000                 0.000000                 0.000000   14.45420\n",
      "75%      1.000000    3.000000   38.000000                 1.000000                 0.000000   31.13750\n",
      "max      1.000000    3.000000   80.000000                 8.000000                 6.000000  512.32920\n"
     ]
    }
   ],
   "source": [
    "\n",
    "#Display description of the DataFrame (summary statistics for numerical columns)\n",
    "print(df.describe().to_string())"
   ]
  },
  {
   "cell_type": "code",
   "execution_count": 13,
   "id": "a8c88527",
   "metadata": {},
   "outputs": [],
   "source": [
    "#Plots of data by survival status\n",
    "\n",
    "#Import necessary libraries for plotting\n",
    "import matplotlib.pyplot as plt\n",
    "import seaborn as sns"
   ]
  },
  {
   "cell_type": "markdown",
   "id": "2e44bb62",
   "metadata": {},
   "source": [
    "Count of Passengers by Survival Status"
   ]
  },
  {
   "cell_type": "code",
   "execution_count": 28,
   "id": "c3cf62bc",
   "metadata": {},
   "outputs": [
    {
     "data": {
      "image/png": "[encoded data removed]",
      "text/plain": [
       "<Figure size 1200x600 with 1 Axes>"
      ]
     },
     "metadata": {},
     "output_type": "display_data"
    }
   ],
   "source": [
    "\n",
    "\n",
    "#Set the figure size for the plots\n",
    "plt.figure(figsize=(12, 6))\n",
    "#Create a count plot for the 'Survived' column\n",
    "sns.countplot(x='Survived', data=df)\n",
    "#Set the title of the plot\n",
    "plt.title('Count of Passengers by Survival Status')\n",
    "#Display the plot\n",
    "plt.show()"
   ]
  },
  {
   "cell_type": "markdown",
   "id": "e8af8eab",
   "metadata": {},
   "source": [
    "Survival by Gender"
   ]
  },
  {
   "cell_type": "code",
   "execution_count": 15,
   "id": "d92f2e86",
   "metadata": {},
   "outputs": [
    {
     "data": {
      "image/png": "[encoded data removed]",
      "text/plain": [
       "<Figure size 640x480 with 1 Axes>"
      ]
     },
     "metadata": {},
     "output_type": "display_data"
    }
   ],
   "source": [
    "#Create a count plot for the 'Sex' column\n",
    "sns.countplot(x= 'Sex', data=df)\n",
    "#Set the title of the plot\n",
    "plt.title('Survival By Gender, (0 = Died, 1 = Survived)')\n",
    "#Display the plot\n",
    "plt.show()\n"
   ]
  },
  {
   "cell_type": "markdown",
   "id": "2001c46c",
   "metadata": {},
   "source": [
    "Survival by Pclass"
   ]
  },
  {
   "cell_type": "code",
   "execution_count": 16,
   "id": "9540263c",
   "metadata": {},
   "outputs": [
    {
     "data": {
      "image/png": "[encoded data removed]",
      "text/plain": [
       "<Figure size 640x480 with 1 Axes>"
      ]
     },
     "metadata": {},
     "output_type": "display_data"
    }
   ],
   "source": [
    "#Create a count plot for the 'Pclass' column\n",
    "sns.countplot(x='Pclass', data=df)\n",
    "#Set the title of the plot\n",
    "plt.title('Survival By Passenger Class')\n",
    "#Display the plot\n",
    "plt.show()"
   ]
  },
  {
   "cell_type": "markdown",
   "id": "26643876",
   "metadata": {},
   "source": [
    "Age Distribution of Passengers"
   ]
  },
  {
   "cell_type": "code",
   "execution_count": 17,
   "id": "764689b1",
   "metadata": {},
   "outputs": [
    {
     "data": {
      "image/png": "[encoded data removed]",
      "text/plain": [
       "<Figure size 1000x600 with 1 Axes>"
      ]
     },
     "metadata": {},
     "output_type": "display_data"
    }
   ],
   "source": [
    "#Create figure for age distribution\n",
    "plt.figure(figsize=(10,6))\n",
    "#Create a histogram for the 'Age' column with 30 bins and a kernel density estimate (kde)\n",
    "sns.histplot(data=df, x='Age', bins=30, kde=True)\n",
    "#Set the title of the plot\n",
    "plt.title('Age Distribution of Passengers')\n",
    "#Display the plot\n",
    "plt.show()"
   ]
  },
  {
   "cell_type": "code",
   "execution_count": 18,
   "id": "355da91d",
   "metadata": {},
   "outputs": [
    {
     "name": "stdout",
     "output_type": "stream",
     "text": [
      "   Survived  Pclass     Sex   Age  Siblings/Spouses Aboard  Parents/Children Aboard     Fare\n",
      "0         0       3    male  22.0                        1                        0   7.2500\n",
      "1         1       1  female  38.0                        1                        0  71.2833\n",
      "2         1       3  female  26.0                        0                        0   7.9250\n",
      "3         1       1  female  35.0                        1                        0  53.1000\n",
      "4         0       3    male  35.0                        0                        0   8.0500\n"
     ]
    }
   ],
   "source": [
    "#We need to drop the attributes that are not useful for our analysis: name\n",
    "#Drop the 'Name' column from the DataFrame \n",
    "df.drop(columns=['Name'], inplace=True) # inplace=True modifies the original DataFrame without creating a copy\n",
    "\n",
    "#Display the first 5 rows of the modified DataFrame and convert it to a string for better readability\n",
    "print(df.head().to_string())"
   ]
  },
  {
   "cell_type": "code",
   "execution_count": 19,
   "id": "3cbd6c9d",
   "metadata": {},
   "outputs": [
    {
     "name": "stdout",
     "output_type": "stream",
     "text": [
      "Survived                   0\n",
      "Pclass                     0\n",
      "Sex                        0\n",
      "Age                        0\n",
      "Siblings/Spouses Aboard    0\n",
      "Parents/Children Aboard    0\n",
      "Fare                       0\n",
      "dtype: int64\n"
     ]
    }
   ],
   "source": [
    "#lets check if thereare any missing values in the dataset\n",
    "print(df.isnull().sum()) #O missing values in the dataset"
   ]
  },
  {
   "cell_type": "code",
   "execution_count": null,
   "id": "8ef29f19",
   "metadata": {},
   "outputs": [],
   "source": []
  },
  {
   "cell_type": "code",
   "execution_count": 20,
   "id": "8340588a",
   "metadata": {},
   "outputs": [
    {
     "name": "stdout",
     "output_type": "stream",
     "text": [
      "   Survived  Pclass  Sex   Age  Siblings/Spouses Aboard  Parents/Children Aboard     Fare\n",
      "0         0       3    1  22.0                        1                        0   7.2500\n",
      "1         1       1    0  38.0                        1                        0  71.2833\n",
      "2         1       3    0  26.0                        0                        0   7.9250\n",
      "3         1       1    0  35.0                        1                        0  53.1000\n",
      "4         0       3    1  35.0                        0                        0   8.0500\n"
     ]
    }
   ],
   "source": [
    "#Lets import the libraries for encording data from categorical to numerical (sex)\n",
    "from sklearn.preprocessing import LabelEncoder #for encoding categorical variables need to install sklearn, pip install -U scikit-learn\n",
    "\n",
    "le = LabelEncoder() #create an instance of the LabelEncoder class\n",
    "#Encode the sex column (categorical variable) into numerical values\n",
    "df[\"Sex\"] = le.fit_transform(df['Sex']) #fit_transform() method fits the encoder and transforms the data in one step\n",
    "\n",
    "#Display the first 5 rows of the DataFrame after encoding\n",
    "print(df.head().to_string())"
   ]
  },
  {
   "cell_type": "code",
   "execution_count": 21,
   "id": "bc04d7fc",
   "metadata": {},
   "outputs": [
    {
     "name": "stdout",
     "output_type": "stream",
     "text": [
      "   Survived  Pclass  Sex   Age  Siblings/Spouses Aboard  Parents/Children Aboard     Fare\n",
      "0         0       3    1  22.0                        1                        0   7.2500\n",
      "1         1       1    0  38.0                        1                        0  71.2833\n",
      "2         1       3    0  26.0                        0                        0   7.9250\n",
      "3         1       1    0  35.0                        1                        0  53.1000\n",
      "4         0       3    1  35.0                        0                        0   8.0500\n"
     ]
    }
   ],
   "source": [
    "\n",
    "print(df.head().to_string()) #Display the first 5 rows of the modified DataFrame"
   ]
  },
  {
   "cell_type": "markdown",
   "id": "01acd28d",
   "metadata": {},
   "source": [
    "**Train/Test Split**"
   ]
  },
  {
   "cell_type": "code",
   "execution_count": 22,
   "id": "d426bf88",
   "metadata": {},
   "outputs": [],
   "source": [
    "#import the libraries for needed for training the model\n",
    "from sklearn.model_selection import train_test_split #for splitting the dataset into training and testing sets\n",
    "\n",
    "#Drop the Survived column from the DataFrame to create the feature set (X)\n",
    "X = df.drop(columns=['Survived']) #X will contain all columns except 'Survived'\n",
    "#Create the target variable (y) by selecting the Survived column\n",
    "y = df['Survived'] #y will contain only the 'Survived' column\n",
    "\n",
    "#Split the dataset into training and testing sets (80% training, 20% testing)\n",
    "X_train, X_test, y_train, y_test = train_test_split(X, y, test_size=0.2, random_state=42) #random_state ensures reproducibility of the split"
   ]
  },
  {
   "cell_type": "markdown",
   "id": "090dc58b",
   "metadata": {},
   "source": [
    "**Train Model**"
   ]
  },
  {
   "cell_type": "code",
   "execution_count": 23,
   "id": "a0856438",
   "metadata": {},
   "outputs": [],
   "source": [
    "# We will use the Random Forest Classifier for our model\n",
    "from sklearn.ensemble import RandomForestClassifier #for the Random Forest Classifier\n",
    "\n",
    "#Create an instance of the RandomForestClassifier with 100 trees\n",
    "model = RandomForestClassifier(n_estimators=100, random_state=42) #n_estimators specifies the number of trees in the forest\n",
    "#Train the model using the training data\n",
    "model.fit(X_train, y_train) #fit() method trains the model on the training data\n",
    "#Make predictions on the test data\n",
    "y_pred = model.predict(X_test) #predict() method generates predictions for the test data\n"
   ]
  },
  {
   "cell_type": "markdown",
   "id": "a41c8687",
   "metadata": {},
   "source": [
    "**Printing Predictions vs Actual Values**"
   ]
  },
  {
   "cell_type": "code",
   "execution_count": 24,
   "id": "a2432dd5",
   "metadata": {},
   "outputs": [
    {
     "name": "stdout",
     "output_type": "stream",
     "text": [
      "     Actual  Predicted\n",
      "296       1          0\n",
      "682       0          0\n",
      "535       0          0\n",
      "644       1          0\n",
      "623       0          0\n",
      "39        1          1\n",
      "529       0          0\n",
      "585       0          0\n",
      "723       1          1\n",
      "141       1          0\n"
     ]
    }
   ],
   "source": [
    "# Predict on the test data\n",
    "y_pred = model.predict(X_test) #predict() method generates predictions for the test data\n",
    "\n",
    "#comparing the first 10 predictions with the actual values\n",
    "comp_df = pd.DataFrame({'Actual': y_test, 'Predicted': y_pred}) #create a DataFrame to compare actual and predicted values\n",
    "\n",
    "#printing the firdt 10 rows of the comparison DataFrame\n",
    "print(comp_df.head(10).to_string()) #Display the first 10 rows of the comparison DataFrame"
   ]
  },
  {
   "cell_type": "markdown",
   "id": "c5448f63",
   "metadata": {},
   "source": [
    "**Evaluating the Modeland checking the Accuracy**"
   ]
  },
  {
   "cell_type": "code",
   "execution_count": 25,
   "id": "64d3a2ca",
   "metadata": {},
   "outputs": [
    {
     "name": "stdout",
     "output_type": "stream",
     "text": [
      "              precision    recall  f1-score   support\n",
      "\n",
      "           0       0.81      0.82      0.81       111\n",
      "           1       0.69      0.67      0.68        67\n",
      "\n",
      "    accuracy                           0.76       178\n",
      "   macro avg       0.75      0.75      0.75       178\n",
      "weighted avg       0.76      0.76      0.76       178\n",
      "\n",
      "Accuracy: 0.7640449438202247\n",
      "Confusion Matrix:\n",
      " [[91 20]\n",
      " [22 45]]\n"
     ]
    }
   ],
   "source": [
    "#import the libraries for evaluating the model\n",
    "from sklearn.metrics import classification_report, confusion_matrix, accuracy_score #for generating classification report and confusion matrix\n",
    "\n",
    "preds = model.predict(X_test) #make predictions on the test data\n",
    "#Generate the classification report\n",
    "print(classification_report(y_test, preds)) #classification_report() generates a report showing the main classification metrics\n",
    "\n",
    "print(\"Accuracy:\", accuracy_score(y_test, preds)) #accuracy_score() calculates the accuracy of the model\n",
    "\n",
    "print(\"Confusion Matrix:\\n\", confusion_matrix(y_test, preds)) #confusion_matrix() generates a confusion matrix to evaluate the performance of the model"
   ]
  },
  {
   "cell_type": "code",
   "execution_count": 26,
   "id": "ab406c1a",
   "metadata": {},
   "outputs": [
    {
     "name": "stdout",
     "output_type": "stream",
     "text": [
      "Feature Importances:\n",
      " [0.09236833 0.28743205 0.25757202 0.05090601 0.03330337 0.27841822]\n"
     ]
    }
   ],
   "source": [
    "#Display the feature importances\n",
    "importances = model.feature_importances_ #feature_importances_ attribute contains the importance of each feature\n",
    "print(\"Feature Importances:\\n\", importances) #Display the feature importances"
   ]
  },
  {
   "cell_type": "markdown",
   "id": "416b3eaf",
   "metadata": {},
   "source": [
    "**From the above, The feature importance can be summarized**\n",
    "** # Titanic Feature Importance Summary\n",
    "\n",
    "## Feature Importances\n",
    "| Feature | Importance | % Contribution |\n",
    "|---------|------------|----------------|\n",
    "| Sex     | 0.2874     | 28.74%         |\n",
    "| Fare    | 0.2784     | 27.84%         |\n",
    "| Age     | 0.2576     | 25.76%         |\n",
    "| Pclass  | 0.0924     | 9.24%          |\n",
    "| Siblings/Spouses Aboard | 0.0509 | 5.09%  |\n",
    "| Parents/Children Aboard | 0.0333 | 3.33%  |\n",
    "\n",
    "## Interpretation\n",
    "- **Sex (28.74%)**: Most critical; women had higher survival rates due to \"women and children first.\"\n",
    "- **Fare (27.84%)**: High fares linked to first-class, better lifeboat access.\n",
    "- **Age (25.76%)**: Children prioritized; younger passengers more resilient.\n",
    "- **Pclass (9.24%)**: Moderate impact; overlaps with `Fare`.\n",
    "- **Siblings/Spouses (5.09%)** & **Parents/Children (3.33%)**: Minor impact; family size less relevant.\n",
    "\n",
    "## Takeaways\n",
    "- `Sex`, `Fare`, `Age` drive ~82% of predictions.\n",
    "- `Pclass` partially redundant with `Fare`.\n",
    "- Family features have low influence."
   ]
  },
  {
   "cell_type": "markdown",
   "id": "8c8244ed",
   "metadata": {},
   "source": []
  }
 ],
 "metadata": {
  "kernelspec": {
   "display_name": "Python 3",
   "language": "python",
   "name": "python3"
  },
  "language_info": {
   "codemirror_mode": {
    "name": "ipython",
    "version": 3
   },
   "file_extension": ".py",
   "mimetype": "text/x-python",
   "name": "python",
   "nbconvert_exporter": "python",
   "pygments_lexer": "ipython3",
   "version": "3.9.13"
  }
 },
 "nbformat": 4,
 "nbformat_minor": 5
}
