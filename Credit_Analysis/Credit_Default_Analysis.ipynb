{
 "cells": [
  {
   "cell_type": "code",
   "execution_count": 23,
   "id": "934193c3",
   "metadata": {},
   "outputs": [],
   "source": [
    "import pandas as pd\n",
    "credit_df = pd.read_csv(r'C:\\Users\\festu\\ML05102025\\myML\\Credit_Analysis\\credit_data.csv')"
   ]
  },
  {
   "cell_type": "code",
   "execution_count": 24,
   "id": "74a056fe",
   "metadata": {},
   "outputs": [
    {
     "name": "stdout",
     "output_type": "stream",
     "text": [
      "   clientid       income        age         loan  default\n",
      "0         1  66155.92510  59.017015  8106.532131        0\n",
      "1         2  34415.15397  48.117153  6564.745018        0\n",
      "2         3  57317.17006  63.108049  8020.953296        0\n",
      "3         4  42709.53420  45.751972  6103.642260        0\n",
      "4         5  66952.68885  18.584336  8770.099235        1\n"
     ]
    }
   ],
   "source": [
    "# The first 5 rows of the dataframe\n",
    "print (credit_df.head())"
   ]
  },
  {
   "cell_type": "code",
   "execution_count": 25,
   "id": "6d7ffb25",
   "metadata": {},
   "outputs": [
    {
     "name": "stdout",
     "output_type": "stream",
     "text": [
      "Index(['clientid', 'income', 'age', 'loan', 'default'], dtype='object')\n"
     ]
    }
   ],
   "source": [
    "#Lets checl the columns of the dataframe\n",
    "print(credit_df.columns)"
   ]
  },
  {
   "cell_type": "code",
   "execution_count": 26,
   "id": "111fa359",
   "metadata": {},
   "outputs": [
    {
     "name": "stdout",
     "output_type": "stream",
     "text": [
      "clientid    0\n",
      "income      0\n",
      "age         3\n",
      "loan        0\n",
      "default     0\n",
      "dtype: int64\n"
     ]
    }
   ],
   "source": [
    "#Show the missiong data\n",
    "print(credit_df.isnull().sum())"
   ]
  },
  {
   "cell_type": "code",
   "execution_count": 27,
   "id": "f36e5b04",
   "metadata": {},
   "outputs": [
    {
     "name": "stdout",
     "output_type": "stream",
     "text": [
      "40.80755937844266\n"
     ]
    }
   ],
   "source": [
    "#Mean age of the customers\n",
    "print(credit_df['age'].mean())"
   ]
  },
  {
   "cell_type": "code",
   "execution_count": 28,
   "id": "e87c5779",
   "metadata": {},
   "outputs": [
    {
     "name": "stdout",
     "output_type": "stream",
     "text": [
      "2000\n"
     ]
    }
   ],
   "source": [
    "#Lets check the number of customers in the dataset\n",
    "print(credit_df['clientid'].count())"
   ]
  },
  {
   "cell_type": "code",
   "execution_count": 29,
   "id": "df2b8dc9",
   "metadata": {},
   "outputs": [
    {
     "data": {
      "text/plain": [
       "0       59.017015\n",
       "1       48.117153\n",
       "2       63.108049\n",
       "3       45.751972\n",
       "4       18.584336\n",
       "          ...    \n",
       "1995    48.518179\n",
       "1996    23.162104\n",
       "1997    28.017167\n",
       "1998    63.971796\n",
       "1999    56.152617\n",
       "Name: age, Length: 2000, dtype: float64"
      ]
     },
     "execution_count": 29,
     "metadata": {},
     "output_type": "execute_result"
    }
   ],
   "source": [
    "#lets fill the missing values in the age column with the mean\n",
    "credit_df['age'].fillna(credit_df['age'].mean(), inplace= False)"
   ]
  },
  {
   "cell_type": "code",
   "execution_count": 30,
   "id": "afcd9e10",
   "metadata": {},
   "outputs": [
    {
     "name": "stdout",
     "output_type": "stream",
     "text": [
      "3\n"
     ]
    }
   ],
   "source": [
    "#checking if we changed the missing values\n",
    "print(credit_df['age'].isnull().sum())"
   ]
  },
  {
   "cell_type": "code",
   "execution_count": 31,
   "id": "59b326db",
   "metadata": {},
   "outputs": [
    {
     "name": "stdout",
     "output_type": "stream",
     "text": [
      "          clientid        income          age          loan      default\n",
      "count  2000.000000   2000.000000  1997.000000   2000.000000  2000.000000\n",
      "mean   1000.500000  45331.600018    40.807559   4444.369695     0.141500\n",
      "std     577.494589  14326.327119    13.624469   3045.410024     0.348624\n",
      "min       1.000000  20014.489470   -52.423280      1.377630     0.000000\n",
      "25%     500.750000  32796.459720    28.990415   1939.708847     0.000000\n",
      "50%    1000.500000  45789.117310    41.317159   3974.719418     0.000000\n",
      "75%    1500.250000  57791.281670    52.587040   6432.410625     0.000000\n",
      "max    2000.000000  69995.685580    63.971796  13766.051240     1.000000\n"
     ]
    }
   ],
   "source": [
    "#Display summary statistics of the DataFrame\n",
    "print(credit_df.describe())"
   ]
  },
  {
   "cell_type": "code",
   "execution_count": 32,
   "id": "f3d140ec",
   "metadata": {},
   "outputs": [
    {
     "data": {
      "text/html": [
       "<div>\n",
       "<style scoped>\n",
       "    .dataframe tbody tr th:only-of-type {\n",
       "        vertical-align: middle;\n",
       "    }\n",
       "\n",
       "    .dataframe tbody tr th {\n",
       "        vertical-align: top;\n",
       "    }\n",
       "\n",
       "    .dataframe thead th {\n",
       "        text-align: right;\n",
       "    }\n",
       "</style>\n",
       "<table border=\"1\" class=\"dataframe\">\n",
       "  <thead>\n",
       "    <tr style=\"text-align: right;\">\n",
       "      <th></th>\n",
       "      <th>income</th>\n",
       "      <th>age</th>\n",
       "      <th>loan</th>\n",
       "      <th>default</th>\n",
       "    </tr>\n",
       "  </thead>\n",
       "  <tbody>\n",
       "    <tr>\n",
       "      <th>0</th>\n",
       "      <td>66155.92510</td>\n",
       "      <td>59.017015</td>\n",
       "      <td>8106.532131</td>\n",
       "      <td>0</td>\n",
       "    </tr>\n",
       "    <tr>\n",
       "      <th>1</th>\n",
       "      <td>34415.15397</td>\n",
       "      <td>48.117153</td>\n",
       "      <td>6564.745018</td>\n",
       "      <td>0</td>\n",
       "    </tr>\n",
       "    <tr>\n",
       "      <th>2</th>\n",
       "      <td>57317.17006</td>\n",
       "      <td>63.108049</td>\n",
       "      <td>8020.953296</td>\n",
       "      <td>0</td>\n",
       "    </tr>\n",
       "    <tr>\n",
       "      <th>3</th>\n",
       "      <td>42709.53420</td>\n",
       "      <td>45.751972</td>\n",
       "      <td>6103.642260</td>\n",
       "      <td>0</td>\n",
       "    </tr>\n",
       "    <tr>\n",
       "      <th>4</th>\n",
       "      <td>66952.68885</td>\n",
       "      <td>18.584336</td>\n",
       "      <td>8770.099235</td>\n",
       "      <td>1</td>\n",
       "    </tr>\n",
       "    <tr>\n",
       "      <th>...</th>\n",
       "      <td>...</td>\n",
       "      <td>...</td>\n",
       "      <td>...</td>\n",
       "      <td>...</td>\n",
       "    </tr>\n",
       "    <tr>\n",
       "      <th>1995</th>\n",
       "      <td>59221.04487</td>\n",
       "      <td>48.518179</td>\n",
       "      <td>1926.729397</td>\n",
       "      <td>0</td>\n",
       "    </tr>\n",
       "    <tr>\n",
       "      <th>1996</th>\n",
       "      <td>69516.12757</td>\n",
       "      <td>23.162104</td>\n",
       "      <td>3503.176156</td>\n",
       "      <td>0</td>\n",
       "    </tr>\n",
       "    <tr>\n",
       "      <th>1997</th>\n",
       "      <td>44311.44926</td>\n",
       "      <td>28.017167</td>\n",
       "      <td>5522.786693</td>\n",
       "      <td>1</td>\n",
       "    </tr>\n",
       "    <tr>\n",
       "      <th>1998</th>\n",
       "      <td>43756.05660</td>\n",
       "      <td>63.971796</td>\n",
       "      <td>1622.722598</td>\n",
       "      <td>0</td>\n",
       "    </tr>\n",
       "    <tr>\n",
       "      <th>1999</th>\n",
       "      <td>69436.57955</td>\n",
       "      <td>56.152617</td>\n",
       "      <td>7378.833599</td>\n",
       "      <td>0</td>\n",
       "    </tr>\n",
       "  </tbody>\n",
       "</table>\n",
       "<p>2000 rows × 4 columns</p>\n",
       "</div>"
      ],
      "text/plain": [
       "           income        age         loan  default\n",
       "0     66155.92510  59.017015  8106.532131        0\n",
       "1     34415.15397  48.117153  6564.745018        0\n",
       "2     57317.17006  63.108049  8020.953296        0\n",
       "3     42709.53420  45.751972  6103.642260        0\n",
       "4     66952.68885  18.584336  8770.099235        1\n",
       "...           ...        ...          ...      ...\n",
       "1995  59221.04487  48.518179  1926.729397        0\n",
       "1996  69516.12757  23.162104  3503.176156        0\n",
       "1997  44311.44926  28.017167  5522.786693        1\n",
       "1998  43756.05660  63.971796  1622.722598        0\n",
       "1999  69436.57955  56.152617  7378.833599        0\n",
       "\n",
       "[2000 rows x 4 columns]"
      ]
     },
     "execution_count": 32,
     "metadata": {},
     "output_type": "execute_result"
    }
   ],
   "source": [
    "#We know that the CustomerID is unique for each customer, so we can drop it from the dataset since it won't help us in our analysis.\n",
    "credit_df.drop('clientid', axis=1, inplace=False)"
   ]
  },
  {
   "cell_type": "code",
   "execution_count": null,
   "id": "9cc96fe8",
   "metadata": {},
   "outputs": [
    {
     "name": "stdout",
     "output_type": "stream",
     "text": [
      "Accuracy: 0.99\n",
      "              precision    recall  f1-score   support\n",
      "\n",
      "           0       0.99      1.00      0.99       330\n",
      "           1       1.00      0.94      0.97        70\n",
      "\n",
      "    accuracy                           0.99       400\n",
      "   macro avg       0.99      0.97      0.98       400\n",
      "weighted avg       0.99      0.99      0.99       400\n",
      "\n"
     ]
    }
   ],
   "source": [
    "from xgboost import XGBClassifier\n",
    "#sklearn is a machine learning library that provides a wide range of algorithms for classification, regression, and clustering tasks.\n",
    "from sklearn.model_selection import train_test_split\n",
    "from sklearn.metrics import accuracy_score, classification_report, confusion_matrix\n",
    "\n",
    "#features and target variable\n",
    "#features are the input variables used to predict the target variable\n",
    "X = credit_df.drop('default', axis=1)\n",
    "#target variable is the output variable we want to predict\n",
    "y = credit_df['default']\n",
    "\n",
    "#Splitting the dataset into training and testing sets\n",
    "X_train, X_test, y_train, y_test = train_test_split(X, y, test_size=0.2, random_state=42)\n",
    "\n",
    "#training the model \n",
    "model = XGBClassifier()\n",
    "#fit the model to the training data\n",
    "#fit method is used to train the model on the training data\n",
    "model.fit(X_train, y_train)\n",
    "\n",
    "#predicting the target variable for the test data\n",
    "y_pred = model.predict(X_test)\n",
    "\n",
    "#calculating the accuracy of the model or evaluating the model\n",
    "accuracy = accuracy_score(y_test, y_pred)\n",
    "print(f'Accuracy: {accuracy:.2f}')\n",
    "\n",
    "#displaying the classification report\n",
    "print(classification_report(y_test, y_pred))"
   ]
  },
  {
   "cell_type": "code",
   "execution_count": 36,
   "id": "2abee6db",
   "metadata": {},
   "outputs": [
    {
     "name": "stdout",
     "output_type": "stream",
     "text": [
      "[[330   0]\n",
      " [  4  66]]\n"
     ]
    }
   ],
   "source": [
    "# Lets check if the data Leakage is present\n",
    "#data leakage occurs when the model is trained on data that it should not have access to during training\n",
    "#this can happen if the model is trained on data that includes information about the target variable\n",
    "#or if the model is trained on data that is not representative of the real-world scenario\n",
    "#to check for data leakage, we can use the confusion matrix\n",
    "confusion = confusion_matrix(y_test, y_pred)\n",
    "print(confusion)"
   ]
  },
  {
   "cell_type": "markdown",
   "id": "51595a70",
   "metadata": {},
   "source": [
    "What This Means:\n",
    "\n",
    "330 true non-defaulters were correctly predicted.\n",
    "\n",
    "66 true defaulters were correctly predicted.\n",
    "\n",
    "Only 4 defaulters were incorrectly predicted as non-defaulters — this is the most critical error in credit risk."
   ]
  },
  {
   "cell_type": "code",
   "execution_count": 38,
   "id": "0993febc",
   "metadata": {},
   "outputs": [
    {
     "name": "stdout",
     "output_type": "stream",
     "text": [
      "[[330   0]\n",
      " [  4  66]]\n",
      "              precision    recall  f1-score   support\n",
      "\n",
      "           0       0.99      1.00      0.99       330\n",
      "           1       1.00      0.94      0.97        70\n",
      "\n",
      "    accuracy                           0.99       400\n",
      "   macro avg       0.99      0.97      0.98       400\n",
      "weighted avg       0.99      0.99      0.99       400\n",
      "\n"
     ]
    }
   ],
   "source": [
    "#Adjust Prediction Threshold\n",
    "#The default threshold for binary classification is 0.5\n",
    "import numpy as np\n",
    "from sklearn.metrics import confusion_matrix, classification_report\n",
    "\n",
    "# Predict probabilities\n",
    "y_proba = model.predict_proba(X_test)[:, 1]  # probabilities for class 1\n",
    "\n",
    "# Adjust threshold from 0.5 to 0.4\n",
    "threshold = 0.4\n",
    "y_pred_thresh = (y_proba >= threshold).astype(int)\n",
    "\n",
    "# Evaluate\n",
    "print(confusion_matrix(y_test, y_pred_thresh))\n",
    "print(classification_report(y_test, y_pred_thresh))\n"
   ]
  },
  {
   "cell_type": "code",
   "execution_count": 35,
   "id": "508050df",
   "metadata": {},
   "outputs": [
    {
     "data": {
      "image/png": "[encoded data removed]",
      "text/plain": [
       "<Figure size 800x310 with 2 Axes>"
      ]
     },
     "metadata": {},
     "output_type": "display_data"
    }
   ],
   "source": [
    "# Explain with SHAP\n",
    "import shap\n",
    "\n",
    "\n",
    "explainer = shap.Explainer(model)\n",
    "shap_values = explainer(X)\n",
    "\n",
    "# Plot summary\n",
    "shap.summary_plot(shap_values, X)"
   ]
  },
  {
   "cell_type": "markdown",
   "id": "c739087d",
   "metadata": {},
   "source": [
    "**📊 Interpretation by Feature:**\n",
    "1. age\n",
    "Higher age (red) tends to push the prediction left (toward no default).\n",
    "\n",
    "Lower age (blue) pushes the prediction right (toward default).\n",
    "\n",
    "✅ Interpretation: Younger clients are more likely to default according to the model.\n",
    "\n",
    "2. loan\n",
    "Higher loan amounts (red) push the model output right (toward default).\n",
    "\n",
    "✅ Interpretation: Bigger loans increase the chance of default.\n",
    "\n",
    "3. income\n",
    "Higher incomes (red) push the SHAP value left (less likely to default).\n",
    "\n",
    "✅ Interpretation: Higher income reduces default risk, which makes sense.\n",
    "\n",
    "4. clientid\n",
    "This feature has SHAP values centered tightly around zero, meaning it has no real predictive power.\n",
    "\n",
    "***⚠️ Action: Should drop clientid from your model — it's not helpful and just adds noise.***\n",
    "\n",
    "🔥 Summary\n",
    "Most important features: **loan, income, and age.**"
   ]
  },
  {
   "cell_type": "code",
   "execution_count": 45,
   "id": "110cd5ff",
   "metadata": {},
   "outputs": [
    {
     "name": "stdout",
     "output_type": "stream",
     "text": [
      "    income  age   loan  defaults\n",
      "0    50000   45  10000         0\n",
      "1    60000   34  15000         0\n",
      "2    45000   29   8000         0\n",
      "3    70000   51  12000         0\n",
      "4    55000   40   7500         0\n",
      "5    40000   36   5000         1\n",
      "6    35000   28   3000         1\n",
      "7    48000   32   9000         0\n",
      "8    38000   27   4000         1\n",
      "9    65000   50  14000         0\n",
      "10   30000   24   2000         1\n",
      "11   55000   44  10000         0\n",
      "12   42000   31   6000         1\n",
      "13   58000   46  11000         0\n",
      "14   36000   26   3500         1\n"
     ]
    }
   ],
   "source": [
    "#LEts try to predict on new dataset\n",
    "\n",
    "\n",
    "# Load new data\n",
    "rand_df = pd.read_csv(r'C:\\Users\\festu\\ML05102025\\myML\\Credit_Analysis\\Credit_Defaults_Sample.csv')\n",
    "\n",
    "print(rand_df)\n"
   ]
  },
  {
   "cell_type": "code",
   "execution_count": 47,
   "id": "0829e97d",
   "metadata": {},
   "outputs": [
    {
     "name": "stdout",
     "output_type": "stream",
     "text": [
      "Accuracy: 1.00\n",
      "              precision    recall  f1-score   support\n",
      "\n",
      "           0       1.00      1.00      1.00         3\n",
      "\n",
      "    accuracy                           1.00         3\n",
      "   macro avg       1.00      1.00      1.00         3\n",
      "weighted avg       1.00      1.00      1.00         3\n",
      "\n",
      "[[3]]\n"
     ]
    },
    {
     "name": "stderr",
     "output_type": "stream",
     "text": [
      "C:\\Users\\festu\\AppData\\Local\\Packages\\PythonSoftwareFoundation.Python.3.9_qbz5n2kfra8p0\\LocalCache\\local-packages\\Python39\\site-packages\\sklearn\\metrics\\_classification.py:407: UserWarning: A single label was found in 'y_true' and 'y_pred'. For the confusion matrix to have the correct shape, use the 'labels' parameter to pass all known labels.\n",
      "  warnings.warn(\n"
     ]
    }
   ],
   "source": [
    "#lets try to predict on the new dataset\n",
    "#features and target variable\n",
    "x = rand_df.drop('defaults', axis=1)\n",
    "\n",
    "#target variable is the output variable we want to predict\n",
    "y = rand_df['defaults']\n",
    "\n",
    "#Splitting the dataset into training and testing sets\n",
    "x_train, x_test, y_train, y_test = train_test_split(x, y, test_size=0.2, random_state=42)\n",
    "\n",
    "#training the model\n",
    "model = XGBClassifier()\n",
    "#fit the model to the training data\n",
    "#fit method is used to train the model on the training data\n",
    "model.fit(x_train, y_train)\n",
    "\n",
    "#predicting the target variable for the test data\n",
    "y_pred = model.predict(x_test)\n",
    "\n",
    "#calculating the accuracy of the model or evaluating the model\n",
    "accuracy = accuracy_score(y_test, y_pred)   \n",
    "print(f'Accuracy: {accuracy:.2f}')\n",
    "#displaying the classification report\n",
    "print(classification_report(y_test, y_pred))\n",
    "#displaying the confusion matrix\n",
    "confusion = confusion_matrix(y_test, y_pred)\n",
    "print(confusion)\n"
   ]
  },
  {
   "cell_type": "code",
   "execution_count": null,
   "id": "4652a866",
   "metadata": {},
   "outputs": [],
   "source": []
  }
 ],
 "metadata": {
  "kernelspec": {
   "display_name": "Python 3",
   "language": "python",
   "name": "python3"
  },
  "language_info": {
   "codemirror_mode": {
    "name": "ipython",
    "version": 3
   },
   "file_extension": ".py",
   "mimetype": "text/x-python",
   "name": "python",
   "nbconvert_exporter": "python",
   "pygments_lexer": "ipython3",
   "version": "3.9.13"
  }
 },
 "nbformat": 4,
 "nbformat_minor": 5
}
